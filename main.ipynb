{
 "cells": [
  {
   "cell_type": "markdown",
   "metadata": {},
   "source": [
    "# Загрузим данные "
   ]
  },
  {
   "cell_type": "code",
   "execution_count": 1,
   "metadata": {},
   "outputs": [
    {
     "name": "stdout",
     "output_type": "stream",
     "text": [
      "Dataset URL: https://www.kaggle.com/datasets/heeraldedhia/groceries-dataset\n",
      "License(s): GPL-2.0\n",
      "Downloading groceries-dataset.zip to C:\\Files\\Программирование\\Портфолио\\Market Basket Analysis\\data\n",
      "\n"
     ]
    },
    {
     "name": "stderr",
     "output_type": "stream",
     "text": [
      "\n",
      "  0%|          | 0.00/257k [00:00<?, ?B/s]\n",
      "100%|██████████| 257k/257k [00:01<00:00, 256kB/s]\n",
      "100%|██████████| 257k/257k [00:01<00:00, 256kB/s]\n"
     ]
    }
   ],
   "source": [
    "!kaggle datasets download heeraldedhia/groceries-dataset -p \"C:\\Files\\Программирование\\Портфолио\\Market Basket Analysis\\data\""
   ]
  },
  {
   "cell_type": "code",
   "execution_count": 2,
   "metadata": {},
   "outputs": [],
   "source": [
    "%%capture\n",
    "import os\n",
    "from shutil import unpack_archive\n",
    "\n",
    "unpack_archive('data/groceries-dataset.zip', './data', 'zip')\n",
    "\n",
    "os.remove('data/groceries-dataset.zip')"
   ]
  },
  {
   "cell_type": "markdown",
   "metadata": {},
   "source": [
    "# Импортируем библиотеки"
   ]
  },
  {
   "cell_type": "code",
   "execution_count": 3,
   "metadata": {},
   "outputs": [],
   "source": [
    "import pandas as pd"
   ]
  },
  {
   "cell_type": "markdown",
   "metadata": {},
   "source": [
    "# Посмотрим данные"
   ]
  },
  {
   "cell_type": "code",
   "execution_count": 4,
   "metadata": {},
   "outputs": [],
   "source": [
    "df = pd.read_csv('data/Groceries_dataset.csv')"
   ]
  },
  {
   "cell_type": "code",
   "execution_count": 5,
   "metadata": {},
   "outputs": [
    {
     "data": {
      "text/html": [
       "<div>\n",
       "<style scoped>\n",
       "    .dataframe tbody tr th:only-of-type {\n",
       "        vertical-align: middle;\n",
       "    }\n",
       "\n",
       "    .dataframe tbody tr th {\n",
       "        vertical-align: top;\n",
       "    }\n",
       "\n",
       "    .dataframe thead th {\n",
       "        text-align: right;\n",
       "    }\n",
       "</style>\n",
       "<table border=\"1\" class=\"dataframe\">\n",
       "  <thead>\n",
       "    <tr style=\"text-align: right;\">\n",
       "      <th></th>\n",
       "      <th>Member_number</th>\n",
       "      <th>Date</th>\n",
       "      <th>itemDescription</th>\n",
       "    </tr>\n",
       "  </thead>\n",
       "  <tbody>\n",
       "    <tr>\n",
       "      <th>0</th>\n",
       "      <td>1808</td>\n",
       "      <td>21-07-2015</td>\n",
       "      <td>tropical fruit</td>\n",
       "    </tr>\n",
       "    <tr>\n",
       "      <th>1</th>\n",
       "      <td>2552</td>\n",
       "      <td>05-01-2015</td>\n",
       "      <td>whole milk</td>\n",
       "    </tr>\n",
       "    <tr>\n",
       "      <th>2</th>\n",
       "      <td>2300</td>\n",
       "      <td>19-09-2015</td>\n",
       "      <td>pip fruit</td>\n",
       "    </tr>\n",
       "    <tr>\n",
       "      <th>3</th>\n",
       "      <td>1187</td>\n",
       "      <td>12-12-2015</td>\n",
       "      <td>other vegetables</td>\n",
       "    </tr>\n",
       "    <tr>\n",
       "      <th>4</th>\n",
       "      <td>3037</td>\n",
       "      <td>01-02-2015</td>\n",
       "      <td>whole milk</td>\n",
       "    </tr>\n",
       "  </tbody>\n",
       "</table>\n",
       "</div>"
      ],
      "text/plain": [
       "   Member_number        Date   itemDescription\n",
       "0           1808  21-07-2015    tropical fruit\n",
       "1           2552  05-01-2015        whole milk\n",
       "2           2300  19-09-2015         pip fruit\n",
       "3           1187  12-12-2015  other vegetables\n",
       "4           3037  01-02-2015        whole milk"
      ]
     },
     "execution_count": 5,
     "metadata": {},
     "output_type": "execute_result"
    }
   ],
   "source": [
    "df.head()"
   ]
  },
  {
   "cell_type": "markdown",
   "metadata": {},
   "source": [
    "Переименуем столбцы"
   ]
  },
  {
   "cell_type": "code",
   "execution_count": 6,
   "metadata": {},
   "outputs": [],
   "source": [
    "df.rename(columns={'Member_number': 'id', 'Date': 'date', 'itemDescription': 'product_name'}, inplace=True)"
   ]
  },
  {
   "cell_type": "code",
   "execution_count": 7,
   "metadata": {},
   "outputs": [
    {
     "data": {
      "text/html": [
       "<div>\n",
       "<style scoped>\n",
       "    .dataframe tbody tr th:only-of-type {\n",
       "        vertical-align: middle;\n",
       "    }\n",
       "\n",
       "    .dataframe tbody tr th {\n",
       "        vertical-align: top;\n",
       "    }\n",
       "\n",
       "    .dataframe thead th {\n",
       "        text-align: right;\n",
       "    }\n",
       "</style>\n",
       "<table border=\"1\" class=\"dataframe\">\n",
       "  <thead>\n",
       "    <tr style=\"text-align: right;\">\n",
       "      <th></th>\n",
       "      <th>id</th>\n",
       "      <th>date</th>\n",
       "      <th>product_name</th>\n",
       "    </tr>\n",
       "  </thead>\n",
       "  <tbody>\n",
       "    <tr>\n",
       "      <th>0</th>\n",
       "      <td>1808</td>\n",
       "      <td>21-07-2015</td>\n",
       "      <td>tropical fruit</td>\n",
       "    </tr>\n",
       "    <tr>\n",
       "      <th>1</th>\n",
       "      <td>2552</td>\n",
       "      <td>05-01-2015</td>\n",
       "      <td>whole milk</td>\n",
       "    </tr>\n",
       "    <tr>\n",
       "      <th>2</th>\n",
       "      <td>2300</td>\n",
       "      <td>19-09-2015</td>\n",
       "      <td>pip fruit</td>\n",
       "    </tr>\n",
       "    <tr>\n",
       "      <th>3</th>\n",
       "      <td>1187</td>\n",
       "      <td>12-12-2015</td>\n",
       "      <td>other vegetables</td>\n",
       "    </tr>\n",
       "    <tr>\n",
       "      <th>4</th>\n",
       "      <td>3037</td>\n",
       "      <td>01-02-2015</td>\n",
       "      <td>whole milk</td>\n",
       "    </tr>\n",
       "    <tr>\n",
       "      <th>...</th>\n",
       "      <td>...</td>\n",
       "      <td>...</td>\n",
       "      <td>...</td>\n",
       "    </tr>\n",
       "    <tr>\n",
       "      <th>38760</th>\n",
       "      <td>4471</td>\n",
       "      <td>08-10-2014</td>\n",
       "      <td>sliced cheese</td>\n",
       "    </tr>\n",
       "    <tr>\n",
       "      <th>38761</th>\n",
       "      <td>2022</td>\n",
       "      <td>23-02-2014</td>\n",
       "      <td>candy</td>\n",
       "    </tr>\n",
       "    <tr>\n",
       "      <th>38762</th>\n",
       "      <td>1097</td>\n",
       "      <td>16-04-2014</td>\n",
       "      <td>cake bar</td>\n",
       "    </tr>\n",
       "    <tr>\n",
       "      <th>38763</th>\n",
       "      <td>1510</td>\n",
       "      <td>03-12-2014</td>\n",
       "      <td>fruit/vegetable juice</td>\n",
       "    </tr>\n",
       "    <tr>\n",
       "      <th>38764</th>\n",
       "      <td>1521</td>\n",
       "      <td>26-12-2014</td>\n",
       "      <td>cat food</td>\n",
       "    </tr>\n",
       "  </tbody>\n",
       "</table>\n",
       "<p>38765 rows × 3 columns</p>\n",
       "</div>"
      ],
      "text/plain": [
       "         id        date           product_name\n",
       "0      1808  21-07-2015         tropical fruit\n",
       "1      2552  05-01-2015             whole milk\n",
       "2      2300  19-09-2015              pip fruit\n",
       "3      1187  12-12-2015       other vegetables\n",
       "4      3037  01-02-2015             whole milk\n",
       "...     ...         ...                    ...\n",
       "38760  4471  08-10-2014          sliced cheese\n",
       "38761  2022  23-02-2014                  candy\n",
       "38762  1097  16-04-2014               cake bar\n",
       "38763  1510  03-12-2014  fruit/vegetable juice\n",
       "38764  1521  26-12-2014               cat food\n",
       "\n",
       "[38765 rows x 3 columns]"
      ]
     },
     "execution_count": 7,
     "metadata": {},
     "output_type": "execute_result"
    }
   ],
   "source": [
    "df"
   ]
  },
  {
   "cell_type": "markdown",
   "metadata": {},
   "source": [
    "Посмотрим на пропуски и распределение"
   ]
  },
  {
   "cell_type": "code",
   "execution_count": 8,
   "metadata": {},
   "outputs": [
    {
     "data": {
      "text/plain": [
       "id              0\n",
       "date            0\n",
       "product_name    0\n",
       "dtype: int64"
      ]
     },
     "execution_count": 8,
     "metadata": {},
     "output_type": "execute_result"
    }
   ],
   "source": [
    "df.isna().sum()"
   ]
  },
  {
   "cell_type": "code",
   "execution_count": 9,
   "metadata": {},
   "outputs": [
    {
     "name": "stdout",
     "output_type": "stream",
     "text": [
      "<class 'pandas.core.frame.DataFrame'>\n",
      "RangeIndex: 38765 entries, 0 to 38764\n",
      "Data columns (total 3 columns):\n",
      " #   Column        Non-Null Count  Dtype \n",
      "---  ------        --------------  ----- \n",
      " 0   id            38765 non-null  int64 \n",
      " 1   date          38765 non-null  object\n",
      " 2   product_name  38765 non-null  object\n",
      "dtypes: int64(1), object(2)\n",
      "memory usage: 908.7+ KB\n"
     ]
    }
   ],
   "source": [
    "df.info()"
   ]
  },
  {
   "cell_type": "markdown",
   "metadata": {},
   "source": [
    "Приведем типы"
   ]
  },
  {
   "cell_type": "code",
   "execution_count": 10,
   "metadata": {},
   "outputs": [],
   "source": [
    "df['date'] = pd.to_datetime(df['date'], format='%d-%m-%Y')"
   ]
  },
  {
   "cell_type": "code",
   "execution_count": 11,
   "metadata": {},
   "outputs": [],
   "source": [
    "df['product_name'] = df['product_name'].astype('string')"
   ]
  },
  {
   "cell_type": "markdown",
   "metadata": {},
   "source": [
    "Посмотрим нет ли покупателей с аномальным количеством покупок"
   ]
  },
  {
   "cell_type": "code",
   "execution_count": 12,
   "metadata": {},
   "outputs": [
    {
     "data": {
      "text/plain": [
       "id\n",
       "3180    36\n",
       "3737    33\n",
       "3050    33\n",
       "2051    33\n",
       "3915    31\n",
       "        ..\n",
       "4590     2\n",
       "4703     2\n",
       "3607     2\n",
       "4587     2\n",
       "2417     2\n",
       "Name: count, Length: 3898, dtype: int64"
      ]
     },
     "execution_count": 12,
     "metadata": {},
     "output_type": "execute_result"
    }
   ],
   "source": [
    "df['id'].value_counts()"
   ]
  },
  {
   "cell_type": "code",
   "execution_count": 13,
   "metadata": {},
   "outputs": [
    {
     "data": {
      "text/plain": [
       "<Axes: >"
      ]
     },
     "execution_count": 13,
     "metadata": {},
     "output_type": "execute_result"
    },
    {
     "data": {
      "image/png": "[encoded data removed]",
      "text/plain": [
       "<Figure size 640x480 with 1 Axes>"
      ]
     },
     "metadata": {},
     "output_type": "display_data"
    }
   ],
   "source": [
    "df['id'].value_counts().hist(bins=16)"
   ]
  },
  {
   "cell_type": "markdown",
   "metadata": {},
   "source": [
    "# Анализ сочетаемости"
   ]
  },
  {
   "cell_type": "markdown",
   "metadata": {},
   "source": [
    "Сформируем чеки"
   ]
  },
  {
   "cell_type": "code",
   "execution_count": 14,
   "metadata": {},
   "outputs": [],
   "source": [
    "df_group = df.groupby(by=['id', 'date'])['product_name'].apply(list).reset_index()"
   ]
  },
  {
   "cell_type": "code",
   "execution_count": 15,
   "metadata": {},
   "outputs": [
    {
     "data": {
      "text/html": [
       "<div>\n",
       "<style scoped>\n",
       "    .dataframe tbody tr th:only-of-type {\n",
       "        vertical-align: middle;\n",
       "    }\n",
       "\n",
       "    .dataframe tbody tr th {\n",
       "        vertical-align: top;\n",
       "    }\n",
       "\n",
       "    .dataframe thead th {\n",
       "        text-align: right;\n",
       "    }\n",
       "</style>\n",
       "<table border=\"1\" class=\"dataframe\">\n",
       "  <thead>\n",
       "    <tr style=\"text-align: right;\">\n",
       "      <th></th>\n",
       "      <th>id</th>\n",
       "      <th>date</th>\n",
       "      <th>product_name</th>\n",
       "    </tr>\n",
       "  </thead>\n",
       "  <tbody>\n",
       "    <tr>\n",
       "      <th>0</th>\n",
       "      <td>1000</td>\n",
       "      <td>2014-06-24</td>\n",
       "      <td>[whole milk, pastry, salty snack]</td>\n",
       "    </tr>\n",
       "    <tr>\n",
       "      <th>1</th>\n",
       "      <td>1000</td>\n",
       "      <td>2015-03-15</td>\n",
       "      <td>[sausage, whole milk, semi-finished bread, yog...</td>\n",
       "    </tr>\n",
       "    <tr>\n",
       "      <th>2</th>\n",
       "      <td>1000</td>\n",
       "      <td>2015-05-27</td>\n",
       "      <td>[soda, pickled vegetables]</td>\n",
       "    </tr>\n",
       "    <tr>\n",
       "      <th>3</th>\n",
       "      <td>1000</td>\n",
       "      <td>2015-07-24</td>\n",
       "      <td>[canned beer, misc. beverages]</td>\n",
       "    </tr>\n",
       "    <tr>\n",
       "      <th>4</th>\n",
       "      <td>1000</td>\n",
       "      <td>2015-11-25</td>\n",
       "      <td>[sausage, hygiene articles]</td>\n",
       "    </tr>\n",
       "    <tr>\n",
       "      <th>...</th>\n",
       "      <td>...</td>\n",
       "      <td>...</td>\n",
       "      <td>...</td>\n",
       "    </tr>\n",
       "    <tr>\n",
       "      <th>14958</th>\n",
       "      <td>4999</td>\n",
       "      <td>2015-05-16</td>\n",
       "      <td>[butter milk, whipped/sour cream]</td>\n",
       "    </tr>\n",
       "    <tr>\n",
       "      <th>14959</th>\n",
       "      <td>4999</td>\n",
       "      <td>2015-12-26</td>\n",
       "      <td>[bottled water, herbs]</td>\n",
       "    </tr>\n",
       "    <tr>\n",
       "      <th>14960</th>\n",
       "      <td>5000</td>\n",
       "      <td>2014-03-09</td>\n",
       "      <td>[fruit/vegetable juice, onions]</td>\n",
       "    </tr>\n",
       "    <tr>\n",
       "      <th>14961</th>\n",
       "      <td>5000</td>\n",
       "      <td>2014-11-16</td>\n",
       "      <td>[bottled beer, other vegetables]</td>\n",
       "    </tr>\n",
       "    <tr>\n",
       "      <th>14962</th>\n",
       "      <td>5000</td>\n",
       "      <td>2015-02-10</td>\n",
       "      <td>[soda, root vegetables, semi-finished bread]</td>\n",
       "    </tr>\n",
       "  </tbody>\n",
       "</table>\n",
       "<p>14963 rows × 3 columns</p>\n",
       "</div>"
      ],
      "text/plain": [
       "         id       date                                       product_name\n",
       "0      1000 2014-06-24                  [whole milk, pastry, salty snack]\n",
       "1      1000 2015-03-15  [sausage, whole milk, semi-finished bread, yog...\n",
       "2      1000 2015-05-27                         [soda, pickled vegetables]\n",
       "3      1000 2015-07-24                     [canned beer, misc. beverages]\n",
       "4      1000 2015-11-25                        [sausage, hygiene articles]\n",
       "...     ...        ...                                                ...\n",
       "14958  4999 2015-05-16                  [butter milk, whipped/sour cream]\n",
       "14959  4999 2015-12-26                             [bottled water, herbs]\n",
       "14960  5000 2014-03-09                    [fruit/vegetable juice, onions]\n",
       "14961  5000 2014-11-16                   [bottled beer, other vegetables]\n",
       "14962  5000 2015-02-10       [soda, root vegetables, semi-finished bread]\n",
       "\n",
       "[14963 rows x 3 columns]"
      ]
     },
     "execution_count": 15,
     "metadata": {},
     "output_type": "execute_result"
    }
   ],
   "source": [
    "df_group"
   ]
  },
  {
   "cell_type": "markdown",
   "metadata": {},
   "source": [
    "Получили почти 15к чеков, проверим есть ли чеки с одним товаром и удалим их"
   ]
  },
  {
   "cell_type": "code",
   "execution_count": 16,
   "metadata": {},
   "outputs": [],
   "source": [
    "df_group['size'] = df_group['product_name'].apply(len)"
   ]
  },
  {
   "cell_type": "code",
   "execution_count": 17,
   "metadata": {},
   "outputs": [
    {
     "data": {
      "text/plain": [
       "count    14963.000000\n",
       "mean         2.590724\n",
       "std          1.117469\n",
       "min          2.000000\n",
       "25%          2.000000\n",
       "50%          2.000000\n",
       "75%          3.000000\n",
       "max         11.000000\n",
       "Name: size, dtype: float64"
      ]
     },
     "execution_count": 17,
     "metadata": {},
     "output_type": "execute_result"
    }
   ],
   "source": [
    "df_group['size'].describe()"
   ]
  },
  {
   "cell_type": "markdown",
   "metadata": {},
   "source": [
    "Минимум 2 товара в чеке, можем делать пары"
   ]
  },
  {
   "cell_type": "code",
   "execution_count": 46,
   "metadata": {},
   "outputs": [],
   "source": [
    "from itertools import combinations\n",
    "\n",
    "products_pair = []\n",
    "\n",
    "for i in range(len(df_group)):\n",
    "    current_check = list(sorted(df_group.loc[i, 'product_name']))\n",
    "    pairs = list(combinations(current_check, 2))\n",
    "    \n",
    "    for j in pairs:\n",
    "        pair = ' - '.join(j)\n",
    "        products_pair.append(pair)"
   ]
  },
  {
   "cell_type": "code",
   "execution_count": 47,
   "metadata": {},
   "outputs": [],
   "source": [
    "pairs = pd.DataFrame({'pair': products_pair})"
   ]
  },
  {
   "cell_type": "code",
   "execution_count": 48,
   "metadata": {},
   "outputs": [
    {
     "data": {
      "text/html": [
       "<div>\n",
       "<style scoped>\n",
       "    .dataframe tbody tr th:only-of-type {\n",
       "        vertical-align: middle;\n",
       "    }\n",
       "\n",
       "    .dataframe tbody tr th {\n",
       "        vertical-align: top;\n",
       "    }\n",
       "\n",
       "    .dataframe thead th {\n",
       "        text-align: right;\n",
       "    }\n",
       "</style>\n",
       "<table border=\"1\" class=\"dataframe\">\n",
       "  <thead>\n",
       "    <tr style=\"text-align: right;\">\n",
       "      <th></th>\n",
       "      <th>pair</th>\n",
       "    </tr>\n",
       "  </thead>\n",
       "  <tbody>\n",
       "    <tr>\n",
       "      <th>0</th>\n",
       "      <td>pastry - salty snack</td>\n",
       "    </tr>\n",
       "    <tr>\n",
       "      <th>1</th>\n",
       "      <td>pastry - whole milk</td>\n",
       "    </tr>\n",
       "    <tr>\n",
       "      <th>2</th>\n",
       "      <td>salty snack - whole milk</td>\n",
       "    </tr>\n",
       "    <tr>\n",
       "      <th>3</th>\n",
       "      <td>sausage - semi-finished bread</td>\n",
       "    </tr>\n",
       "    <tr>\n",
       "      <th>4</th>\n",
       "      <td>sausage - whole milk</td>\n",
       "    </tr>\n",
       "    <tr>\n",
       "      <th>...</th>\n",
       "      <td>...</td>\n",
       "    </tr>\n",
       "    <tr>\n",
       "      <th>40169</th>\n",
       "      <td>fruit/vegetable juice - onions</td>\n",
       "    </tr>\n",
       "    <tr>\n",
       "      <th>40170</th>\n",
       "      <td>bottled beer - other vegetables</td>\n",
       "    </tr>\n",
       "    <tr>\n",
       "      <th>40171</th>\n",
       "      <td>root vegetables - semi-finished bread</td>\n",
       "    </tr>\n",
       "    <tr>\n",
       "      <th>40172</th>\n",
       "      <td>root vegetables - soda</td>\n",
       "    </tr>\n",
       "    <tr>\n",
       "      <th>40173</th>\n",
       "      <td>semi-finished bread - soda</td>\n",
       "    </tr>\n",
       "  </tbody>\n",
       "</table>\n",
       "<p>40174 rows × 1 columns</p>\n",
       "</div>"
      ],
      "text/plain": [
       "                                        pair\n",
       "0                       pastry - salty snack\n",
       "1                        pastry - whole milk\n",
       "2                   salty snack - whole milk\n",
       "3              sausage - semi-finished bread\n",
       "4                       sausage - whole milk\n",
       "...                                      ...\n",
       "40169         fruit/vegetable juice - onions\n",
       "40170        bottled beer - other vegetables\n",
       "40171  root vegetables - semi-finished bread\n",
       "40172                 root vegetables - soda\n",
       "40173             semi-finished bread - soda\n",
       "\n",
       "[40174 rows x 1 columns]"
      ]
     },
     "execution_count": 48,
     "metadata": {},
     "output_type": "execute_result"
    }
   ],
   "source": [
    "pairs"
   ]
  },
  {
   "cell_type": "markdown",
   "metadata": {},
   "source": [
    "Получили больше 40к пар товаров, подсчитаем количество каждой пары"
   ]
  },
  {
   "cell_type": "code",
   "execution_count": 49,
   "metadata": {},
   "outputs": [],
   "source": [
    "pair_count = pairs['pair'].value_counts().reset_index()"
   ]
  },
  {
   "cell_type": "code",
   "execution_count": 50,
   "metadata": {},
   "outputs": [],
   "source": [
    "pairs_merge = pairs.merge(pair_count, on='pair', how='left')"
   ]
  },
  {
   "cell_type": "code",
   "execution_count": 51,
   "metadata": {},
   "outputs": [
    {
     "data": {
      "text/plain": [
       "count    40174.000000\n",
       "mean        33.128342\n",
       "std         43.102350\n",
       "min          1.000000\n",
       "25%          6.000000\n",
       "50%         17.000000\n",
       "75%         43.000000\n",
       "max        243.000000\n",
       "Name: count, dtype: float64"
      ]
     },
     "execution_count": 51,
     "metadata": {},
     "output_type": "execute_result"
    }
   ],
   "source": [
    "pairs_merge['count'].describe()"
   ]
  },
  {
   "cell_type": "code",
   "execution_count": 52,
   "metadata": {},
   "outputs": [
    {
     "data": {
      "text/plain": [
       "<Axes: >"
      ]
     },
     "execution_count": 52,
     "metadata": {},
     "output_type": "execute_result"
    },
    {
     "data": {
      "image/png": "[encoded data removed]",
      "text/plain": [
       "<Figure size 640x480 with 1 Axes>"
      ]
     },
     "metadata": {},
     "output_type": "display_data"
    }
   ],
   "source": [
    "pairs_merge.boxplot(column='count')"
   ]
  },
  {
   "cell_type": "markdown",
   "metadata": {},
   "source": [
    "Не будем удалять \"выбросы\", добавим в dataframe столбцы с разделенными товарами"
   ]
  },
  {
   "cell_type": "code",
   "execution_count": 53,
   "metadata": {},
   "outputs": [],
   "source": [
    "pairs_merge['first_product'] = pairs['pair'].apply(lambda x: x.split(' - ')[0])\n",
    "pairs_merge['second_product'] = pairs['pair'].apply(lambda x: x.split(' - ')[1])"
   ]
  },
  {
   "cell_type": "code",
   "execution_count": 54,
   "metadata": {},
   "outputs": [
    {
     "data": {
      "text/plain": [
       "first_product\n",
       "other vegetables         1878\n",
       "bottled water            1706\n",
       "bottled beer             1393\n",
       "canned beer              1309\n",
       "citrus fruit             1282\n",
       "                         ... \n",
       "specialty vegetables        4\n",
       "kitchen utensil             2\n",
       "whisky                      1\n",
       "preservation products       1\n",
       "toilet cleaner              1\n",
       "Name: count, Length: 166, dtype: int64"
      ]
     },
     "execution_count": 54,
     "metadata": {},
     "output_type": "execute_result"
    }
   ],
   "source": [
    "pairs_merge['first_product'].value_counts()"
   ]
  },
  {
   "cell_type": "code",
   "execution_count": 55,
   "metadata": {},
   "outputs": [
    {
     "data": {
      "text/plain": [
       "second_product\n",
       "whole milk          4884\n",
       "yogurt              2740\n",
       "soda                2400\n",
       "rolls/buns          2280\n",
       "other vegetables    1880\n",
       "                    ... \n",
       "kitchen utensil        2\n",
       "frozen chicken         2\n",
       "artif. sweetener       1\n",
       "abrasive cleaner       1\n",
       "baby cosmetics         1\n",
       "Name: count, Length: 163, dtype: int64"
      ]
     },
     "execution_count": 55,
     "metadata": {},
     "output_type": "execute_result"
    }
   ],
   "source": [
    "pairs_merge['second_product'].value_counts()"
   ]
  },
  {
   "cell_type": "code",
   "execution_count": 56,
   "metadata": {},
   "outputs": [
    {
     "data": {
      "text/plain": [
       "167"
      ]
     },
     "execution_count": 56,
     "metadata": {},
     "output_type": "execute_result"
    }
   ],
   "source": [
    "df['product_name'].nunique()"
   ]
  },
  {
   "cell_type": "markdown",
   "metadata": {},
   "source": [
    "Имеем представление о продажах товаров. Посмотим период продаж, что бы понимать сроки"
   ]
  },
  {
   "cell_type": "code",
   "execution_count": 33,
   "metadata": {},
   "outputs": [
    {
     "data": {
      "text/plain": [
       "Timedelta('728 days 00:00:00')"
      ]
     },
     "execution_count": 33,
     "metadata": {},
     "output_type": "execute_result"
    }
   ],
   "source": [
    "df['date'].max() - df['date'].min()"
   ]
  },
  {
   "cell_type": "markdown",
   "metadata": {},
   "source": [
    "Разделим товары на 3 категории в зависимости от их доли в общих продажах"
   ]
  },
  {
   "cell_type": "code",
   "execution_count": 99,
   "metadata": {},
   "outputs": [],
   "source": [
    "product_count = df['product_name'].value_counts().reset_index()"
   ]
  },
  {
   "cell_type": "code",
   "execution_count": 102,
   "metadata": {},
   "outputs": [],
   "source": [
    "all_count = product_count['count'].sum()"
   ]
  },
  {
   "cell_type": "code",
   "execution_count": 103,
   "metadata": {},
   "outputs": [],
   "source": [
    "product_count['fraction'] = product_count['count'].apply(lambda x: (x/all_count) * 100)"
   ]
  },
  {
   "cell_type": "code",
   "execution_count": 109,
   "metadata": {},
   "outputs": [],
   "source": [
    "product_count = product_count.sort_values(by='fraction', ascending=False)"
   ]
  },
  {
   "cell_type": "markdown",
   "metadata": {},
   "source": [
    "Сделаем накопительным итогом проценты"
   ]
  },
  {
   "cell_type": "code",
   "execution_count": 111,
   "metadata": {},
   "outputs": [],
   "source": [
    "product_count['cumsum'] = product_count['fraction'].cumsum()"
   ]
  },
  {
   "cell_type": "markdown",
   "metadata": {},
   "source": [
    "Посмотрим сколько товаров в каких границах лежит"
   ]
  },
  {
   "cell_type": "code",
   "execution_count": 123,
   "metadata": {},
   "outputs": [
    {
     "data": {
      "text/plain": [
       "0.20958083832335328"
      ]
     },
     "execution_count": 123,
     "metadata": {},
     "output_type": "execute_result"
    }
   ],
   "source": [
    "product_count[product_count['cumsum'] <= 70].shape[0] / product_count.shape[0]"
   ]
  },
  {
   "cell_type": "code",
   "execution_count": 124,
   "metadata": {},
   "outputs": [
    {
     "data": {
      "text/plain": [
       "0.3652694610778443"
      ]
     },
     "execution_count": 124,
     "metadata": {},
     "output_type": "execute_result"
    }
   ],
   "source": [
    "product_count[(product_count['cumsum'] > 70) & (product_count['cumsum'] <= 95)].shape[0] / product_count.shape[0]"
   ]
  },
  {
   "cell_type": "code",
   "execution_count": 125,
   "metadata": {},
   "outputs": [
    {
     "data": {
      "text/plain": [
       "0.4251497005988024"
      ]
     },
     "execution_count": 125,
     "metadata": {},
     "output_type": "execute_result"
    }
   ],
   "source": [
    "product_count[product_count['cumsum'] > 95].shape[0] / product_count.shape[0]"
   ]
  },
  {
   "cell_type": "markdown",
   "metadata": {},
   "source": [
    "Товарам в определенных границах присвоим категорию и добавим в наш датасет с парами"
   ]
  },
  {
   "cell_type": "code",
   "execution_count": 126,
   "metadata": {},
   "outputs": [],
   "source": [
    "product_count.loc[product_count['cumsum'] <= 70, 'group'] = 'A'"
   ]
  },
  {
   "cell_type": "code",
   "execution_count": 127,
   "metadata": {},
   "outputs": [],
   "source": [
    "product_count.loc[(product_count['cumsum'] > 70) & (product_count['cumsum'] <= 95), 'group'] = 'B'"
   ]
  },
  {
   "cell_type": "code",
   "execution_count": 128,
   "metadata": {},
   "outputs": [],
   "source": [
    "product_count.loc[product_count['cumsum'] > 95, 'group'] = 'C'"
   ]
  },
  {
   "cell_type": "code",
   "execution_count": 130,
   "metadata": {},
   "outputs": [
    {
     "data": {
      "text/plain": [
       "group\n",
       "C    0.425150\n",
       "B    0.365269\n",
       "A    0.209581\n",
       "Name: count, dtype: float64"
      ]
     },
     "execution_count": 130,
     "metadata": {},
     "output_type": "execute_result"
    }
   ],
   "source": [
    "product_count['group'].value_counts() / product_count.shape[0]"
   ]
  },
  {
   "cell_type": "code",
   "execution_count": 132,
   "metadata": {},
   "outputs": [
    {
     "data": {
      "text/html": [
       "<div>\n",
       "<style scoped>\n",
       "    .dataframe tbody tr th:only-of-type {\n",
       "        vertical-align: middle;\n",
       "    }\n",
       "\n",
       "    .dataframe tbody tr th {\n",
       "        vertical-align: top;\n",
       "    }\n",
       "\n",
       "    .dataframe thead th {\n",
       "        text-align: right;\n",
       "    }\n",
       "</style>\n",
       "<table border=\"1\" class=\"dataframe\">\n",
       "  <thead>\n",
       "    <tr style=\"text-align: right;\">\n",
       "      <th></th>\n",
       "      <th>pair</th>\n",
       "      <th>count</th>\n",
       "      <th>first_product</th>\n",
       "      <th>second_product</th>\n",
       "      <th>pair_list</th>\n",
       "    </tr>\n",
       "  </thead>\n",
       "  <tbody>\n",
       "    <tr>\n",
       "      <th>0</th>\n",
       "      <td>pastry - salty snack</td>\n",
       "      <td>10</td>\n",
       "      <td>pastry</td>\n",
       "      <td>salty snack</td>\n",
       "      <td>[pastry, salty snack]</td>\n",
       "    </tr>\n",
       "    <tr>\n",
       "      <th>1</th>\n",
       "      <td>pastry - whole milk</td>\n",
       "      <td>104</td>\n",
       "      <td>pastry</td>\n",
       "      <td>whole milk</td>\n",
       "      <td>[pastry, whole milk]</td>\n",
       "    </tr>\n",
       "    <tr>\n",
       "      <th>2</th>\n",
       "      <td>salty snack - whole milk</td>\n",
       "      <td>33</td>\n",
       "      <td>salty snack</td>\n",
       "      <td>whole milk</td>\n",
       "      <td>[salty snack, whole milk]</td>\n",
       "    </tr>\n",
       "    <tr>\n",
       "      <th>3</th>\n",
       "      <td>sausage - semi-finished bread</td>\n",
       "      <td>9</td>\n",
       "      <td>sausage</td>\n",
       "      <td>semi-finished bread</td>\n",
       "      <td>[sausage, semi-finished bread]</td>\n",
       "    </tr>\n",
       "    <tr>\n",
       "      <th>4</th>\n",
       "      <td>sausage - whole milk</td>\n",
       "      <td>147</td>\n",
       "      <td>sausage</td>\n",
       "      <td>whole milk</td>\n",
       "      <td>[sausage, whole milk]</td>\n",
       "    </tr>\n",
       "    <tr>\n",
       "      <th>...</th>\n",
       "      <td>...</td>\n",
       "      <td>...</td>\n",
       "      <td>...</td>\n",
       "      <td>...</td>\n",
       "      <td>...</td>\n",
       "    </tr>\n",
       "    <tr>\n",
       "      <th>40169</th>\n",
       "      <td>fruit/vegetable juice - onions</td>\n",
       "      <td>1</td>\n",
       "      <td>fruit/vegetable juice</td>\n",
       "      <td>onions</td>\n",
       "      <td>[fruit/vegetable juice, onions]</td>\n",
       "    </tr>\n",
       "    <tr>\n",
       "      <th>40170</th>\n",
       "      <td>bottled beer - other vegetables</td>\n",
       "      <td>72</td>\n",
       "      <td>bottled beer</td>\n",
       "      <td>other vegetables</td>\n",
       "      <td>[bottled beer, other vegetables]</td>\n",
       "    </tr>\n",
       "    <tr>\n",
       "      <th>40171</th>\n",
       "      <td>root vegetables - semi-finished bread</td>\n",
       "      <td>10</td>\n",
       "      <td>root vegetables</td>\n",
       "      <td>semi-finished bread</td>\n",
       "      <td>[root vegetables, semi-finished bread]</td>\n",
       "    </tr>\n",
       "    <tr>\n",
       "      <th>40172</th>\n",
       "      <td>root vegetables - soda</td>\n",
       "      <td>83</td>\n",
       "      <td>root vegetables</td>\n",
       "      <td>soda</td>\n",
       "      <td>[root vegetables, soda]</td>\n",
       "    </tr>\n",
       "    <tr>\n",
       "      <th>40173</th>\n",
       "      <td>semi-finished bread - soda</td>\n",
       "      <td>13</td>\n",
       "      <td>semi-finished bread</td>\n",
       "      <td>soda</td>\n",
       "      <td>[semi-finished bread, soda]</td>\n",
       "    </tr>\n",
       "  </tbody>\n",
       "</table>\n",
       "<p>40174 rows × 5 columns</p>\n",
       "</div>"
      ],
      "text/plain": [
       "                                        pair  count          first_product  \\\n",
       "0                       pastry - salty snack     10                 pastry   \n",
       "1                        pastry - whole milk    104                 pastry   \n",
       "2                   salty snack - whole milk     33            salty snack   \n",
       "3              sausage - semi-finished bread      9                sausage   \n",
       "4                       sausage - whole milk    147                sausage   \n",
       "...                                      ...    ...                    ...   \n",
       "40169         fruit/vegetable juice - onions      1  fruit/vegetable juice   \n",
       "40170        bottled beer - other vegetables     72           bottled beer   \n",
       "40171  root vegetables - semi-finished bread     10        root vegetables   \n",
       "40172                 root vegetables - soda     83        root vegetables   \n",
       "40173             semi-finished bread - soda     13    semi-finished bread   \n",
       "\n",
       "            second_product                               pair_list  \n",
       "0              salty snack                   [pastry, salty snack]  \n",
       "1               whole milk                    [pastry, whole milk]  \n",
       "2               whole milk               [salty snack, whole milk]  \n",
       "3      semi-finished bread          [sausage, semi-finished bread]  \n",
       "4               whole milk                   [sausage, whole milk]  \n",
       "...                    ...                                     ...  \n",
       "40169               onions         [fruit/vegetable juice, onions]  \n",
       "40170     other vegetables        [bottled beer, other vegetables]  \n",
       "40171  semi-finished bread  [root vegetables, semi-finished bread]  \n",
       "40172                 soda                 [root vegetables, soda]  \n",
       "40173                 soda             [semi-finished bread, soda]  \n",
       "\n",
       "[40174 rows x 5 columns]"
      ]
     },
     "execution_count": 132,
     "metadata": {},
     "output_type": "execute_result"
    }
   ],
   "source": [
    "pairs_merge"
   ]
  },
  {
   "cell_type": "code",
   "execution_count": 148,
   "metadata": {},
   "outputs": [],
   "source": [
    "pairs_with_first_group = pairs_merge.merge(product_count, left_on='first_product', right_on='product_name', how='left').drop(columns=['product_name', 'count_y', 'fraction', 'cumsum']).rename(columns={'count_x': 'pair_count', 'group': 'first_product_group'})"
   ]
  },
  {
   "cell_type": "code",
   "execution_count": 152,
   "metadata": {},
   "outputs": [],
   "source": [
    "pairs_with_groups = pairs_with_first_group.merge(product_count, left_on='second_product', right_on='product_name', how='left').drop(columns=['product_name', 'count', 'fraction', 'cumsum']).rename(columns={'group': 'second_product_group'})"
   ]
  },
  {
   "cell_type": "code",
   "execution_count": 153,
   "metadata": {},
   "outputs": [
    {
     "data": {
      "text/html": [
       "<div>\n",
       "<style scoped>\n",
       "    .dataframe tbody tr th:only-of-type {\n",
       "        vertical-align: middle;\n",
       "    }\n",
       "\n",
       "    .dataframe tbody tr th {\n",
       "        vertical-align: top;\n",
       "    }\n",
       "\n",
       "    .dataframe thead th {\n",
       "        text-align: right;\n",
       "    }\n",
       "</style>\n",
       "<table border=\"1\" class=\"dataframe\">\n",
       "  <thead>\n",
       "    <tr style=\"text-align: right;\">\n",
       "      <th></th>\n",
       "      <th>pair</th>\n",
       "      <th>pair_count</th>\n",
       "      <th>first_product</th>\n",
       "      <th>second_product</th>\n",
       "      <th>first_product_group</th>\n",
       "      <th>second_product_group</th>\n",
       "    </tr>\n",
       "  </thead>\n",
       "  <tbody>\n",
       "    <tr>\n",
       "      <th>0</th>\n",
       "      <td>pastry - salty snack</td>\n",
       "      <td>10</td>\n",
       "      <td>pastry</td>\n",
       "      <td>salty snack</td>\n",
       "      <td>A</td>\n",
       "      <td>B</td>\n",
       "    </tr>\n",
       "    <tr>\n",
       "      <th>1</th>\n",
       "      <td>pastry - whole milk</td>\n",
       "      <td>104</td>\n",
       "      <td>pastry</td>\n",
       "      <td>whole milk</td>\n",
       "      <td>A</td>\n",
       "      <td>A</td>\n",
       "    </tr>\n",
       "    <tr>\n",
       "      <th>2</th>\n",
       "      <td>salty snack - whole milk</td>\n",
       "      <td>33</td>\n",
       "      <td>salty snack</td>\n",
       "      <td>whole milk</td>\n",
       "      <td>B</td>\n",
       "      <td>A</td>\n",
       "    </tr>\n",
       "    <tr>\n",
       "      <th>3</th>\n",
       "      <td>sausage - semi-finished bread</td>\n",
       "      <td>9</td>\n",
       "      <td>sausage</td>\n",
       "      <td>semi-finished bread</td>\n",
       "      <td>A</td>\n",
       "      <td>B</td>\n",
       "    </tr>\n",
       "    <tr>\n",
       "      <th>4</th>\n",
       "      <td>sausage - whole milk</td>\n",
       "      <td>147</td>\n",
       "      <td>sausage</td>\n",
       "      <td>whole milk</td>\n",
       "      <td>A</td>\n",
       "      <td>A</td>\n",
       "    </tr>\n",
       "    <tr>\n",
       "      <th>...</th>\n",
       "      <td>...</td>\n",
       "      <td>...</td>\n",
       "      <td>...</td>\n",
       "      <td>...</td>\n",
       "      <td>...</td>\n",
       "      <td>...</td>\n",
       "    </tr>\n",
       "    <tr>\n",
       "      <th>40169</th>\n",
       "      <td>fruit/vegetable juice - onions</td>\n",
       "      <td>1</td>\n",
       "      <td>fruit/vegetable juice</td>\n",
       "      <td>onions</td>\n",
       "      <td>A</td>\n",
       "      <td>B</td>\n",
       "    </tr>\n",
       "    <tr>\n",
       "      <th>40170</th>\n",
       "      <td>bottled beer - other vegetables</td>\n",
       "      <td>72</td>\n",
       "      <td>bottled beer</td>\n",
       "      <td>other vegetables</td>\n",
       "      <td>A</td>\n",
       "      <td>A</td>\n",
       "    </tr>\n",
       "    <tr>\n",
       "      <th>40171</th>\n",
       "      <td>root vegetables - semi-finished bread</td>\n",
       "      <td>10</td>\n",
       "      <td>root vegetables</td>\n",
       "      <td>semi-finished bread</td>\n",
       "      <td>A</td>\n",
       "      <td>B</td>\n",
       "    </tr>\n",
       "    <tr>\n",
       "      <th>40172</th>\n",
       "      <td>root vegetables - soda</td>\n",
       "      <td>83</td>\n",
       "      <td>root vegetables</td>\n",
       "      <td>soda</td>\n",
       "      <td>A</td>\n",
       "      <td>A</td>\n",
       "    </tr>\n",
       "    <tr>\n",
       "      <th>40173</th>\n",
       "      <td>semi-finished bread - soda</td>\n",
       "      <td>13</td>\n",
       "      <td>semi-finished bread</td>\n",
       "      <td>soda</td>\n",
       "      <td>B</td>\n",
       "      <td>A</td>\n",
       "    </tr>\n",
       "  </tbody>\n",
       "</table>\n",
       "<p>40174 rows × 6 columns</p>\n",
       "</div>"
      ],
      "text/plain": [
       "                                        pair  pair_count  \\\n",
       "0                       pastry - salty snack          10   \n",
       "1                        pastry - whole milk         104   \n",
       "2                   salty snack - whole milk          33   \n",
       "3              sausage - semi-finished bread           9   \n",
       "4                       sausage - whole milk         147   \n",
       "...                                      ...         ...   \n",
       "40169         fruit/vegetable juice - onions           1   \n",
       "40170        bottled beer - other vegetables          72   \n",
       "40171  root vegetables - semi-finished bread          10   \n",
       "40172                 root vegetables - soda          83   \n",
       "40173             semi-finished bread - soda          13   \n",
       "\n",
       "               first_product       second_product first_product_group  \\\n",
       "0                     pastry          salty snack                   A   \n",
       "1                     pastry           whole milk                   A   \n",
       "2                salty snack           whole milk                   B   \n",
       "3                    sausage  semi-finished bread                   A   \n",
       "4                    sausage           whole milk                   A   \n",
       "...                      ...                  ...                 ...   \n",
       "40169  fruit/vegetable juice               onions                   A   \n",
       "40170           bottled beer     other vegetables                   A   \n",
       "40171        root vegetables  semi-finished bread                   A   \n",
       "40172        root vegetables                 soda                   A   \n",
       "40173    semi-finished bread                 soda                   B   \n",
       "\n",
       "      second_product_group  \n",
       "0                        B  \n",
       "1                        A  \n",
       "2                        A  \n",
       "3                        B  \n",
       "4                        A  \n",
       "...                    ...  \n",
       "40169                    B  \n",
       "40170                    A  \n",
       "40171                    B  \n",
       "40172                    A  \n",
       "40173                    A  \n",
       "\n",
       "[40174 rows x 6 columns]"
      ]
     },
     "execution_count": 153,
     "metadata": {},
     "output_type": "execute_result"
    }
   ],
   "source": [
    "pairs_with_groups"
   ]
  },
  {
   "cell_type": "markdown",
   "metadata": {},
   "source": [
    "Зная количество пар и категорию каждого товара, можем составить пары, для повышения продаж определенных товаров"
   ]
  },
  {
   "cell_type": "markdown",
   "metadata": {},
   "source": [
    "Если какой-то товар покупают чаще в паре с другим и при этом у одного из товаров группа ниже, то предлагая акции этой пары, мы сможем поднять его продажи"
   ]
  },
  {
   "cell_type": "code",
   "execution_count": null,
   "metadata": {},
   "outputs": [],
   "source": [
    "def get_pairs(product_name, max_pairs=3):\n",
    "    print()\n",
    "    print(f'Пары для: {product_name} '.center(50, '-'))\n",
    "    # Получим категорию товара\n",
    "    # Если категория A, то разумнее будет сконцентрироваться на других товарах\n",
    "    product_group = product_count.loc[product_count['product_name'] == product_name, 'group'].values[0]\n",
    "\n",
    "    print(f'Категория товара: {product_group}')\n",
    "\n",
    "    if product_group == 'A':\n",
    "        print('Категория продукта А. Лучше сконцентрироваться на других товарах', end='\\n\\n')\n",
    "        return\n",
    "\n",
    "    # Выберем категорию на одну выше (B -> A, C -> B)\n",
    "    need_group = ''\n",
    "    if product_group == 'B':\n",
    "        need_group = 'A'\n",
    "    else:\n",
    "        need_group = 'C'\n",
    "\n",
    "    # Выберем все пары с нашим продуктом и с продуктами на категорию выше\n",
    "    if_first_product = ((pairs_with_groups['first_product'] == product_name) & (pairs_with_groups['second_product_group'] == need_group))\n",
    "    if_second_product = ((pairs_with_groups['second_product'] == product_name) & (pairs_with_groups['first_product_group'] == need_group))\n",
    "    pairs = pairs_with_groups.loc[(if_first_product | if_second_product)]\n",
    "\n",
    "    if pairs.shape[0] == 0:\n",
    "        print('Нет пар с товаром на категорию выше')\n",
    "        return\n",
    "    \n",
    "    pairs = pairs.sort_values(by='pair_count', ascending=False)\n",
    "    pairs.drop_duplicates(subset=['pair'], inplace=True)\n",
    "\n",
    "    # Если пар больше max_pairs, то ограничиваем вывод\n",
    "    if pairs.shape[0] > max_pairs:\n",
    "        pairs = pairs.iloc[:max_pairs]\n",
    "        \n",
    "    pairs_list = pairs['pair'].apply(lambda x: x.split(' - ')).tolist()\n",
    "\n",
    "    best_vars = set()\n",
    "    best_vars.update(*pairs_list)\n",
    "    best_vars.remove(product_name)\n",
    "\n",
    "    print(f'Лучшие товары для акции: {', '.join(best_vars)}')\n"
   ]
  },
  {
   "cell_type": "code",
   "execution_count": 267,
   "metadata": {},
   "outputs": [
    {
     "name": "stdout",
     "output_type": "stream",
     "text": [
      "\n",
      "-------------Пары для: spread cheese -------------\n",
      "Категория товара: B\n",
      "Лучшие товары для акции: sausage, whole milk, other vegetables\n",
      "\n",
      "---------------Пары для: zwieback ----------------\n",
      "Категория товара: C\n",
      "Лучшие товары для акции: jam, curd cheese, rice\n",
      "\n",
      "-----------Пары для: bathroom cleaner ------------\n",
      "Категория товара: C\n",
      "Лучшие товары для акции: popcorn\n",
      "\n",
      "---------Пары для: specialty vegetables ----------\n",
      "Категория товара: C\n",
      "Нет пар с товаром на категорию выше\n",
      "\n",
      "-----------Пары для: other vegetables ------------\n",
      "Категория товара: A\n",
      "Категория продукта А. Лучше сконцентрироваться на других товарах\n",
      "\n"
     ]
    }
   ],
   "source": [
    "test_products = product_count['product_name'].sample(5).tolist()\n",
    "\n",
    "for i in test_products:\n",
    "    get_pairs(i)"
   ]
  },
  {
   "cell_type": "markdown",
   "metadata": {},
   "source": [
    "# Вывод"
   ]
  },
  {
   "cell_type": "markdown",
   "metadata": {},
   "source": [
    "На данных о продажах, Мы смогли:  \n",
    " - Выделить пары товаров  \n",
    " - Провести ABC анализ для товаров\n",
    " - Написать программу для рекомедации наиболее подходящего товара"
   ]
  }
 ],
 "metadata": {
  "kernelspec": {
   "display_name": ".venv",
   "language": "python",
   "name": "python3"
  },
  "language_info": {
   "codemirror_mode": {
    "name": "ipython",
    "version": 3
   },
   "file_extension": ".py",
   "mimetype": "text/x-python",
   "name": "python",
   "nbconvert_exporter": "python",
   "pygments_lexer": "ipython3",
   "version": "3.13.0"
  }
 },
 "nbformat": 4,
 "nbformat_minor": 2
}
